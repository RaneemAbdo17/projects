{
 "cells": [
  {
   "cell_type": "code",
   "execution_count": 1,
   "id": "db25bf87",
   "metadata": {
    "_cell_guid": "b1076dfc-b9ad-4769-8c92-a6c4dae69d19",
    "_uuid": "8f2839f25d086af736a60e9eeb907d3b93b6e0e5",
    "execution": {
     "iopub.execute_input": "2023-10-15T14:41:25.024161Z",
     "iopub.status.busy": "2023-10-15T14:41:25.023400Z",
     "iopub.status.idle": "2023-10-15T14:41:27.763788Z",
     "shell.execute_reply": "2023-10-15T14:41:27.762267Z"
    },
    "papermill": {
     "duration": 2.750732,
     "end_time": "2023-10-15T14:41:27.766997",
     "exception": false,
     "start_time": "2023-10-15T14:41:25.016265",
     "status": "completed"
    },
    "tags": []
   },
   "outputs": [],
   "source": [
    "from sklearn.ensemble import BaggingClassifier\n",
    "from sklearn.tree import DecisionTreeClassifier\n",
    "from sklearn.metrics import accuracy_score\n",
    "from sklearn.model_selection import train_test_split\n",
    "import pandas as pd\n",
    "import numpy as np\n",
    "import matplotlib.pyplot as plt \n",
    "import seaborn as sns"
   ]
  },
  {
   "cell_type": "code",
   "execution_count": 2,
   "id": "9530c59e",
   "metadata": {
    "execution": {
     "iopub.execute_input": "2023-10-15T14:41:27.777418Z",
     "iopub.status.busy": "2023-10-15T14:41:27.776802Z",
     "iopub.status.idle": "2023-10-15T14:41:27.942934Z",
     "shell.execute_reply": "2023-10-15T14:41:27.941438Z"
    },
    "papermill": {
     "duration": 0.173264,
     "end_time": "2023-10-15T14:41:27.945912",
     "exception": false,
     "start_time": "2023-10-15T14:41:27.772648",
     "status": "completed"
    },
    "tags": []
   },
   "outputs": [],
   "source": [
    "liver=pd.read_csv('https://raw.githubusercontent.com/DrSaadLa/PythonTuts/main/TreeBasedModels/liver.csv')"
   ]
  },
  {
   "cell_type": "code",
   "execution_count": 3,
   "id": "df23f849",
   "metadata": {
    "execution": {
     "iopub.execute_input": "2023-10-15T14:41:27.953402Z",
     "iopub.status.busy": "2023-10-15T14:41:27.953023Z",
     "iopub.status.idle": "2023-10-15T14:41:27.987542Z",
     "shell.execute_reply": "2023-10-15T14:41:27.986268Z"
    },
    "papermill": {
     "duration": 0.04152,
     "end_time": "2023-10-15T14:41:27.990096",
     "exception": false,
     "start_time": "2023-10-15T14:41:27.948576",
     "status": "completed"
    },
    "tags": []
   },
   "outputs": [],
   "source": [
    "from sklearn.impute import SimpleImputer\n",
    "imp=SimpleImputer(missing_values=np.nan,strategy='mean')\n",
    "liver['alkphos']=imp.fit_transform(liver[['alkphos']])"
   ]
  },
  {
   "cell_type": "code",
   "execution_count": 4,
   "id": "c7d3dc7d",
   "metadata": {
    "execution": {
     "iopub.execute_input": "2023-10-15T14:41:27.996636Z",
     "iopub.status.busy": "2023-10-15T14:41:27.996237Z",
     "iopub.status.idle": "2023-10-15T14:41:28.004415Z",
     "shell.execute_reply": "2023-10-15T14:41:28.003084Z"
    },
    "papermill": {
     "duration": 0.014758,
     "end_time": "2023-10-15T14:41:28.007362",
     "exception": false,
     "start_time": "2023-10-15T14:41:27.992604",
     "status": "completed"
    },
    "tags": []
   },
   "outputs": [],
   "source": [
    "liver['gender']=liver['gender'].apply(lambda x:1 if x=='Male' else 0)"
   ]
  },
  {
   "cell_type": "code",
   "execution_count": 5,
   "id": "6e1b9e08",
   "metadata": {
    "execution": {
     "iopub.execute_input": "2023-10-15T14:41:28.021884Z",
     "iopub.status.busy": "2023-10-15T14:41:28.021413Z",
     "iopub.status.idle": "2023-10-15T14:41:28.034774Z",
     "shell.execute_reply": "2023-10-15T14:41:28.033638Z"
    },
    "papermill": {
     "duration": 0.022045,
     "end_time": "2023-10-15T14:41:28.037297",
     "exception": false,
     "start_time": "2023-10-15T14:41:28.015252",
     "status": "completed"
    },
    "tags": []
   },
   "outputs": [],
   "source": [
    "x=liver.drop(['is_patient'],axis=1)\n",
    "y=liver['is_patient']\n",
    "x_train,x_test,y_train,y_test=train_test_split(x,y,stratify=y,test_size=0.2,random_state=1)"
   ]
  },
  {
   "cell_type": "code",
   "execution_count": 6,
   "id": "96a635ab",
   "metadata": {
    "execution": {
     "iopub.execute_input": "2023-10-15T14:41:28.043608Z",
     "iopub.status.busy": "2023-10-15T14:41:28.043235Z",
     "iopub.status.idle": "2023-10-15T14:41:29.636598Z",
     "shell.execute_reply": "2023-10-15T14:41:29.635847Z"
    },
    "papermill": {
     "duration": 1.59891,
     "end_time": "2023-10-15T14:41:29.638635",
     "exception": false,
     "start_time": "2023-10-15T14:41:28.039725",
     "status": "completed"
    },
    "tags": []
   },
   "outputs": [
    {
     "name": "stdout",
     "output_type": "stream",
     "text": [
      "test set accuracy  0.6581196581196581\n",
      "the oob accuracy 0.723175965665236\n"
     ]
    }
   ],
   "source": [
    "dt=DecisionTreeClassifier(min_samples_leaf=8,random_state=1)\n",
    "bc=BaggingClassifier(estimator=dt,n_estimators=500,oob_score=True,random_state=1) #out of baging evaluation oob_score true\n",
    "bc.fit(x_train,y_train)\n",
    "y_pred=bc.predict(x_test)\n",
    "acc_test=accuracy_score(y_pred,y_test)\n",
    "oob_acc=bc.oob_score_\n",
    "print(\"test set accuracy \",acc_test)\n",
    "print(\"the oob accuracy\",oob_acc)"
   ]
  },
  {
   "cell_type": "code",
   "execution_count": null,
   "id": "48f9d786",
   "metadata": {
    "papermill": {
     "duration": 0.001994,
     "end_time": "2023-10-15T14:41:29.642938",
     "exception": false,
     "start_time": "2023-10-15T14:41:29.640944",
     "status": "completed"
    },
    "tags": []
   },
   "outputs": [],
   "source": []
  }
 ],
 "metadata": {
  "kernelspec": {
   "display_name": "Python 3",
   "language": "python",
   "name": "python3"
  },
  "language_info": {
   "codemirror_mode": {
    "name": "ipython",
    "version": 3
   },
   "file_extension": ".py",
   "mimetype": "text/x-python",
   "name": "python",
   "nbconvert_exporter": "python",
   "pygments_lexer": "ipython3",
   "version": "3.10.12"
  },
  "papermill": {
   "default_parameters": {},
   "duration": 8.963959,
   "end_time": "2023-10-15T14:41:30.569655",
   "environment_variables": {},
   "exception": null,
   "input_path": "__notebook__.ipynb",
   "output_path": "__notebook__.ipynb",
   "parameters": {},
   "start_time": "2023-10-15T14:41:21.605696",
   "version": "2.4.0"
  }
 },
 "nbformat": 4,
 "nbformat_minor": 5
}
