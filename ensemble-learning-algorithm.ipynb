{
 "cells": [
  {
   "cell_type": "code",
   "execution_count": 1,
   "id": "618a0f28",
   "metadata": {
    "execution": {
     "iopub.execute_input": "2023-10-13T14:39:46.415986Z",
     "iopub.status.busy": "2023-10-13T14:39:46.414905Z",
     "iopub.status.idle": "2023-10-13T14:39:49.522194Z",
     "shell.execute_reply": "2023-10-13T14:39:49.520880Z"
    },
    "papermill": {
     "duration": 3.116065,
     "end_time": "2023-10-13T14:39:49.524732",
     "exception": false,
     "start_time": "2023-10-13T14:39:46.408667",
     "status": "completed"
    },
    "tags": []
   },
   "outputs": [],
   "source": [
    "import pandas as pd\n",
    "import numpy as np \n",
    "import matplotlib.pyplot as plt\n",
    "import seaborn as sns\n",
    "from sklearn.metrics import accuracy_score,roc_auc_score\n",
    "from sklearn.model_selection import train_test_split\n",
    "from sklearn.linear_model import LogisticRegression\n",
    "from sklearn.tree import DecisionTreeClassifier\n",
    "from sklearn.neighbors import KNeighborsClassifier as KNN\n",
    "from sklearn.ensemble import RandomForestClassifier\n",
    "from sklearn.preprocessing import StandardScaler\n",
    "from sklearn.ensemble import VotingClassifier"
   ]
  },
  {
   "cell_type": "code",
   "execution_count": 2,
   "id": "f980c76c",
   "metadata": {
    "execution": {
     "iopub.execute_input": "2023-10-13T14:39:49.536340Z",
     "iopub.status.busy": "2023-10-13T14:39:49.535810Z",
     "iopub.status.idle": "2023-10-13T14:39:49.658284Z",
     "shell.execute_reply": "2023-10-13T14:39:49.657345Z"
    },
    "papermill": {
     "duration": 0.129756,
     "end_time": "2023-10-13T14:39:49.660454",
     "exception": false,
     "start_time": "2023-10-13T14:39:49.530698",
     "status": "completed"
    },
    "tags": []
   },
   "outputs": [],
   "source": [
    "liver=pd.read_csv('https://raw.githubusercontent.com/DrSaadLa/PythonTuts/main/TreeBasedModels/liver.csv')"
   ]
  },
  {
   "cell_type": "code",
   "execution_count": 3,
   "id": "9e86e539",
   "metadata": {
    "execution": {
     "iopub.execute_input": "2023-10-13T14:39:49.670330Z",
     "iopub.status.busy": "2023-10-13T14:39:49.669781Z",
     "iopub.status.idle": "2023-10-13T14:39:49.704878Z",
     "shell.execute_reply": "2023-10-13T14:39:49.703493Z"
    },
    "papermill": {
     "duration": 0.042785,
     "end_time": "2023-10-13T14:39:49.707142",
     "exception": false,
     "start_time": "2023-10-13T14:39:49.664357",
     "status": "completed"
    },
    "tags": []
   },
   "outputs": [
    {
     "name": "stdout",
     "output_type": "stream",
     "text": [
      "<class 'pandas.core.frame.DataFrame'>\n",
      "RangeIndex: 583 entries, 0 to 582\n",
      "Data columns (total 11 columns):\n",
      " #   Column            Non-Null Count  Dtype  \n",
      "---  ------            --------------  -----  \n",
      " 0   age               583 non-null    int64  \n",
      " 1   gender            583 non-null    object \n",
      " 2   tot_bilirubin     583 non-null    float64\n",
      " 3   direct_bilirubin  583 non-null    float64\n",
      " 4   tot_proteins      583 non-null    int64  \n",
      " 5   albumin           583 non-null    int64  \n",
      " 6   ag_ratio          583 non-null    int64  \n",
      " 7   sgpt              583 non-null    float64\n",
      " 8   sgot              583 non-null    float64\n",
      " 9   alkphos           579 non-null    float64\n",
      " 10  is_patient        583 non-null    int64  \n",
      "dtypes: float64(5), int64(5), object(1)\n",
      "memory usage: 50.2+ KB\n"
     ]
    }
   ],
   "source": [
    "liver.info()"
   ]
  },
  {
   "cell_type": "code",
   "execution_count": 4,
   "id": "7a203924",
   "metadata": {
    "execution": {
     "iopub.execute_input": "2023-10-13T14:39:49.717302Z",
     "iopub.status.busy": "2023-10-13T14:39:49.716737Z",
     "iopub.status.idle": "2023-10-13T14:39:49.724393Z",
     "shell.execute_reply": "2023-10-13T14:39:49.723573Z"
    },
    "papermill": {
     "duration": 0.01502,
     "end_time": "2023-10-13T14:39:49.726199",
     "exception": false,
     "start_time": "2023-10-13T14:39:49.711179",
     "status": "completed"
    },
    "tags": []
   },
   "outputs": [
    {
     "data": {
      "text/plain": [
       "age                 0\n",
       "gender              0\n",
       "tot_bilirubin       0\n",
       "direct_bilirubin    0\n",
       "tot_proteins        0\n",
       "albumin             0\n",
       "ag_ratio            0\n",
       "sgpt                0\n",
       "sgot                0\n",
       "alkphos             4\n",
       "is_patient          0\n",
       "dtype: int64"
      ]
     },
     "execution_count": 4,
     "metadata": {},
     "output_type": "execute_result"
    }
   ],
   "source": [
    "liver.isnull().sum()"
   ]
  },
  {
   "cell_type": "code",
   "execution_count": 5,
   "id": "80a7384f",
   "metadata": {
    "execution": {
     "iopub.execute_input": "2023-10-13T14:39:49.736331Z",
     "iopub.status.busy": "2023-10-13T14:39:49.735789Z",
     "iopub.status.idle": "2023-10-13T14:39:49.758421Z",
     "shell.execute_reply": "2023-10-13T14:39:49.757326Z"
    },
    "papermill": {
     "duration": 0.030164,
     "end_time": "2023-10-13T14:39:49.760632",
     "exception": false,
     "start_time": "2023-10-13T14:39:49.730468",
     "status": "completed"
    },
    "tags": []
   },
   "outputs": [
    {
     "data": {
      "text/html": [
       "<div>\n",
       "<style scoped>\n",
       "    .dataframe tbody tr th:only-of-type {\n",
       "        vertical-align: middle;\n",
       "    }\n",
       "\n",
       "    .dataframe tbody tr th {\n",
       "        vertical-align: top;\n",
       "    }\n",
       "\n",
       "    .dataframe thead th {\n",
       "        text-align: right;\n",
       "    }\n",
       "</style>\n",
       "<table border=\"1\" class=\"dataframe\">\n",
       "  <thead>\n",
       "    <tr style=\"text-align: right;\">\n",
       "      <th></th>\n",
       "      <th>age</th>\n",
       "      <th>gender</th>\n",
       "      <th>tot_bilirubin</th>\n",
       "      <th>direct_bilirubin</th>\n",
       "      <th>tot_proteins</th>\n",
       "      <th>albumin</th>\n",
       "      <th>ag_ratio</th>\n",
       "      <th>sgpt</th>\n",
       "      <th>sgot</th>\n",
       "      <th>alkphos</th>\n",
       "      <th>is_patient</th>\n",
       "    </tr>\n",
       "  </thead>\n",
       "  <tbody>\n",
       "    <tr>\n",
       "      <th>209</th>\n",
       "      <td>45</td>\n",
       "      <td>Female</td>\n",
       "      <td>0.9</td>\n",
       "      <td>0.3</td>\n",
       "      <td>189</td>\n",
       "      <td>23</td>\n",
       "      <td>33</td>\n",
       "      <td>6.6</td>\n",
       "      <td>3.9</td>\n",
       "      <td>NaN</td>\n",
       "      <td>1</td>\n",
       "    </tr>\n",
       "    <tr>\n",
       "      <th>241</th>\n",
       "      <td>51</td>\n",
       "      <td>Male</td>\n",
       "      <td>0.8</td>\n",
       "      <td>0.2</td>\n",
       "      <td>230</td>\n",
       "      <td>24</td>\n",
       "      <td>46</td>\n",
       "      <td>6.5</td>\n",
       "      <td>3.1</td>\n",
       "      <td>NaN</td>\n",
       "      <td>1</td>\n",
       "    </tr>\n",
       "    <tr>\n",
       "      <th>253</th>\n",
       "      <td>35</td>\n",
       "      <td>Female</td>\n",
       "      <td>0.6</td>\n",
       "      <td>0.2</td>\n",
       "      <td>180</td>\n",
       "      <td>12</td>\n",
       "      <td>15</td>\n",
       "      <td>5.2</td>\n",
       "      <td>2.7</td>\n",
       "      <td>NaN</td>\n",
       "      <td>2</td>\n",
       "    </tr>\n",
       "    <tr>\n",
       "      <th>312</th>\n",
       "      <td>27</td>\n",
       "      <td>Male</td>\n",
       "      <td>1.3</td>\n",
       "      <td>0.6</td>\n",
       "      <td>106</td>\n",
       "      <td>25</td>\n",
       "      <td>54</td>\n",
       "      <td>8.5</td>\n",
       "      <td>4.8</td>\n",
       "      <td>NaN</td>\n",
       "      <td>2</td>\n",
       "    </tr>\n",
       "  </tbody>\n",
       "</table>\n",
       "</div>"
      ],
      "text/plain": [
       "     age  gender  tot_bilirubin  direct_bilirubin  tot_proteins  albumin  \\\n",
       "209   45  Female            0.9               0.3           189       23   \n",
       "241   51    Male            0.8               0.2           230       24   \n",
       "253   35  Female            0.6               0.2           180       12   \n",
       "312   27    Male            1.3               0.6           106       25   \n",
       "\n",
       "     ag_ratio  sgpt  sgot  alkphos  is_patient  \n",
       "209        33   6.6   3.9      NaN           1  \n",
       "241        46   6.5   3.1      NaN           1  \n",
       "253        15   5.2   2.7      NaN           2  \n",
       "312        54   8.5   4.8      NaN           2  "
      ]
     },
     "execution_count": 5,
     "metadata": {},
     "output_type": "execute_result"
    }
   ],
   "source": [
    "liver[liver['alkphos'].isnull()]"
   ]
  },
  {
   "cell_type": "markdown",
   "id": "c5cfba8c",
   "metadata": {
    "papermill": {
     "duration": 0.003984,
     "end_time": "2023-10-13T14:39:49.768962",
     "exception": false,
     "start_time": "2023-10-13T14:39:49.764978",
     "status": "completed"
    },
    "tags": []
   },
   "source": [
    "**replace null with mean**"
   ]
  },
  {
   "cell_type": "code",
   "execution_count": 6,
   "id": "964e936e",
   "metadata": {
    "execution": {
     "iopub.execute_input": "2023-10-13T14:39:49.779632Z",
     "iopub.status.busy": "2023-10-13T14:39:49.779011Z",
     "iopub.status.idle": "2023-10-13T14:39:49.803655Z",
     "shell.execute_reply": "2023-10-13T14:39:49.802524Z"
    },
    "papermill": {
     "duration": 0.032834,
     "end_time": "2023-10-13T14:39:49.806075",
     "exception": false,
     "start_time": "2023-10-13T14:39:49.773241",
     "status": "completed"
    },
    "tags": []
   },
   "outputs": [],
   "source": [
    "from sklearn.impute import SimpleImputer\n",
    "imp=SimpleImputer(missing_values=np.nan,strategy='mean')\n",
    "liver['alkphos']=imp.fit_transform(liver[['alkphos']])"
   ]
  },
  {
   "cell_type": "code",
   "execution_count": 7,
   "id": "abfee4be",
   "metadata": {
    "execution": {
     "iopub.execute_input": "2023-10-13T14:39:49.816552Z",
     "iopub.status.busy": "2023-10-13T14:39:49.815968Z",
     "iopub.status.idle": "2023-10-13T14:39:49.822485Z",
     "shell.execute_reply": "2023-10-13T14:39:49.821717Z"
    },
    "papermill": {
     "duration": 0.013861,
     "end_time": "2023-10-13T14:39:49.824255",
     "exception": false,
     "start_time": "2023-10-13T14:39:49.810394",
     "status": "completed"
    },
    "tags": []
   },
   "outputs": [
    {
     "data": {
      "text/plain": [
       "0"
      ]
     },
     "execution_count": 7,
     "metadata": {},
     "output_type": "execute_result"
    }
   ],
   "source": [
    "liver['alkphos'].isnull().sum()"
   ]
  },
  {
   "cell_type": "code",
   "execution_count": 8,
   "id": "a9365770",
   "metadata": {
    "execution": {
     "iopub.execute_input": "2023-10-13T14:39:49.834684Z",
     "iopub.status.busy": "2023-10-13T14:39:49.834125Z",
     "iopub.status.idle": "2023-10-13T14:39:49.840495Z",
     "shell.execute_reply": "2023-10-13T14:39:49.839749Z"
    },
    "papermill": {
     "duration": 0.01363,
     "end_time": "2023-10-13T14:39:49.842233",
     "exception": false,
     "start_time": "2023-10-13T14:39:49.828603",
     "status": "completed"
    },
    "tags": []
   },
   "outputs": [
    {
     "data": {
      "text/plain": [
       "array(['Female', 'Male'], dtype=object)"
      ]
     },
     "execution_count": 8,
     "metadata": {},
     "output_type": "execute_result"
    }
   ],
   "source": [
    "liver['gender'].unique()"
   ]
  },
  {
   "cell_type": "code",
   "execution_count": 9,
   "id": "dfb2606f",
   "metadata": {
    "execution": {
     "iopub.execute_input": "2023-10-13T14:39:49.853455Z",
     "iopub.status.busy": "2023-10-13T14:39:49.852899Z",
     "iopub.status.idle": "2023-10-13T14:39:49.861897Z",
     "shell.execute_reply": "2023-10-13T14:39:49.861025Z"
    },
    "papermill": {
     "duration": 0.016538,
     "end_time": "2023-10-13T14:39:49.863624",
     "exception": false,
     "start_time": "2023-10-13T14:39:49.847086",
     "status": "completed"
    },
    "tags": []
   },
   "outputs": [
    {
     "data": {
      "text/plain": [
       "array([0, 1])"
      ]
     },
     "execution_count": 9,
     "metadata": {},
     "output_type": "execute_result"
    }
   ],
   "source": [
    "liver['gender']=liver['gender'].apply(lambda x:1 if x=='Male' else 0)\n",
    "liver['gender'].unique()"
   ]
  },
  {
   "cell_type": "code",
   "execution_count": 10,
   "id": "f5603b08",
   "metadata": {
    "execution": {
     "iopub.execute_input": "2023-10-13T14:39:49.874237Z",
     "iopub.status.busy": "2023-10-13T14:39:49.873356Z",
     "iopub.status.idle": "2023-10-13T14:39:49.894785Z",
     "shell.execute_reply": "2023-10-13T14:39:49.893271Z"
    },
    "papermill": {
     "duration": 0.028863,
     "end_time": "2023-10-13T14:39:49.896959",
     "exception": false,
     "start_time": "2023-10-13T14:39:49.868096",
     "status": "completed"
    },
    "tags": []
   },
   "outputs": [
    {
     "data": {
      "text/html": [
       "<div>\n",
       "<style scoped>\n",
       "    .dataframe tbody tr th:only-of-type {\n",
       "        vertical-align: middle;\n",
       "    }\n",
       "\n",
       "    .dataframe tbody tr th {\n",
       "        vertical-align: top;\n",
       "    }\n",
       "\n",
       "    .dataframe thead th {\n",
       "        text-align: right;\n",
       "    }\n",
       "</style>\n",
       "<table border=\"1\" class=\"dataframe\">\n",
       "  <thead>\n",
       "    <tr style=\"text-align: right;\">\n",
       "      <th></th>\n",
       "      <th>age</th>\n",
       "      <th>gender</th>\n",
       "      <th>tot_bilirubin</th>\n",
       "      <th>direct_bilirubin</th>\n",
       "      <th>tot_proteins</th>\n",
       "      <th>albumin</th>\n",
       "      <th>ag_ratio</th>\n",
       "      <th>sgpt</th>\n",
       "      <th>sgot</th>\n",
       "      <th>alkphos</th>\n",
       "      <th>is_patient</th>\n",
       "    </tr>\n",
       "  </thead>\n",
       "  <tbody>\n",
       "    <tr>\n",
       "      <th>age</th>\n",
       "      <td>1.000000</td>\n",
       "      <td>0.056560</td>\n",
       "      <td>0.011763</td>\n",
       "      <td>0.007529</td>\n",
       "      <td>0.080425</td>\n",
       "      <td>-0.086883</td>\n",
       "      <td>-0.019910</td>\n",
       "      <td>-0.187461</td>\n",
       "      <td>-0.265924</td>\n",
       "      <td>-0.216089</td>\n",
       "      <td>-0.137351</td>\n",
       "    </tr>\n",
       "    <tr>\n",
       "      <th>gender</th>\n",
       "      <td>0.056560</td>\n",
       "      <td>1.000000</td>\n",
       "      <td>0.089291</td>\n",
       "      <td>0.100436</td>\n",
       "      <td>-0.027496</td>\n",
       "      <td>0.082332</td>\n",
       "      <td>0.080336</td>\n",
       "      <td>-0.089121</td>\n",
       "      <td>-0.093799</td>\n",
       "      <td>-0.003404</td>\n",
       "      <td>-0.082416</td>\n",
       "    </tr>\n",
       "    <tr>\n",
       "      <th>tot_bilirubin</th>\n",
       "      <td>0.011763</td>\n",
       "      <td>0.089291</td>\n",
       "      <td>1.000000</td>\n",
       "      <td>0.874618</td>\n",
       "      <td>0.206669</td>\n",
       "      <td>0.214065</td>\n",
       "      <td>0.237831</td>\n",
       "      <td>-0.008099</td>\n",
       "      <td>-0.222250</td>\n",
       "      <td>-0.206159</td>\n",
       "      <td>-0.220208</td>\n",
       "    </tr>\n",
       "    <tr>\n",
       "      <th>direct_bilirubin</th>\n",
       "      <td>0.007529</td>\n",
       "      <td>0.100436</td>\n",
       "      <td>0.874618</td>\n",
       "      <td>1.000000</td>\n",
       "      <td>0.234939</td>\n",
       "      <td>0.233894</td>\n",
       "      <td>0.257544</td>\n",
       "      <td>-0.000139</td>\n",
       "      <td>-0.228531</td>\n",
       "      <td>-0.200004</td>\n",
       "      <td>-0.246046</td>\n",
       "    </tr>\n",
       "    <tr>\n",
       "      <th>tot_proteins</th>\n",
       "      <td>0.080425</td>\n",
       "      <td>-0.027496</td>\n",
       "      <td>0.206669</td>\n",
       "      <td>0.234939</td>\n",
       "      <td>1.000000</td>\n",
       "      <td>0.125680</td>\n",
       "      <td>0.167196</td>\n",
       "      <td>-0.028514</td>\n",
       "      <td>-0.165453</td>\n",
       "      <td>-0.233960</td>\n",
       "      <td>-0.184866</td>\n",
       "    </tr>\n",
       "    <tr>\n",
       "      <th>albumin</th>\n",
       "      <td>-0.086883</td>\n",
       "      <td>0.082332</td>\n",
       "      <td>0.214065</td>\n",
       "      <td>0.233894</td>\n",
       "      <td>0.125680</td>\n",
       "      <td>1.000000</td>\n",
       "      <td>0.791966</td>\n",
       "      <td>-0.042518</td>\n",
       "      <td>-0.029742</td>\n",
       "      <td>-0.002374</td>\n",
       "      <td>-0.163416</td>\n",
       "    </tr>\n",
       "    <tr>\n",
       "      <th>ag_ratio</th>\n",
       "      <td>-0.019910</td>\n",
       "      <td>0.080336</td>\n",
       "      <td>0.237831</td>\n",
       "      <td>0.257544</td>\n",
       "      <td>0.167196</td>\n",
       "      <td>0.791966</td>\n",
       "      <td>1.000000</td>\n",
       "      <td>-0.025645</td>\n",
       "      <td>-0.085290</td>\n",
       "      <td>-0.070024</td>\n",
       "      <td>-0.151934</td>\n",
       "    </tr>\n",
       "    <tr>\n",
       "      <th>sgpt</th>\n",
       "      <td>-0.187461</td>\n",
       "      <td>-0.089121</td>\n",
       "      <td>-0.008099</td>\n",
       "      <td>-0.000139</td>\n",
       "      <td>-0.028514</td>\n",
       "      <td>-0.042518</td>\n",
       "      <td>-0.025645</td>\n",
       "      <td>1.000000</td>\n",
       "      <td>0.784053</td>\n",
       "      <td>0.233904</td>\n",
       "      <td>0.035008</td>\n",
       "    </tr>\n",
       "    <tr>\n",
       "      <th>sgot</th>\n",
       "      <td>-0.265924</td>\n",
       "      <td>-0.093799</td>\n",
       "      <td>-0.222250</td>\n",
       "      <td>-0.228531</td>\n",
       "      <td>-0.165453</td>\n",
       "      <td>-0.029742</td>\n",
       "      <td>-0.085290</td>\n",
       "      <td>0.784053</td>\n",
       "      <td>1.000000</td>\n",
       "      <td>0.686322</td>\n",
       "      <td>0.161388</td>\n",
       "    </tr>\n",
       "    <tr>\n",
       "      <th>alkphos</th>\n",
       "      <td>-0.216089</td>\n",
       "      <td>-0.003404</td>\n",
       "      <td>-0.206159</td>\n",
       "      <td>-0.200004</td>\n",
       "      <td>-0.233960</td>\n",
       "      <td>-0.002374</td>\n",
       "      <td>-0.070024</td>\n",
       "      <td>0.233904</td>\n",
       "      <td>0.686322</td>\n",
       "      <td>1.000000</td>\n",
       "      <td>0.162319</td>\n",
       "    </tr>\n",
       "    <tr>\n",
       "      <th>is_patient</th>\n",
       "      <td>-0.137351</td>\n",
       "      <td>-0.082416</td>\n",
       "      <td>-0.220208</td>\n",
       "      <td>-0.246046</td>\n",
       "      <td>-0.184866</td>\n",
       "      <td>-0.163416</td>\n",
       "      <td>-0.151934</td>\n",
       "      <td>0.035008</td>\n",
       "      <td>0.161388</td>\n",
       "      <td>0.162319</td>\n",
       "      <td>1.000000</td>\n",
       "    </tr>\n",
       "  </tbody>\n",
       "</table>\n",
       "</div>"
      ],
      "text/plain": [
       "                       age    gender  tot_bilirubin  direct_bilirubin  \\\n",
       "age               1.000000  0.056560       0.011763          0.007529   \n",
       "gender            0.056560  1.000000       0.089291          0.100436   \n",
       "tot_bilirubin     0.011763  0.089291       1.000000          0.874618   \n",
       "direct_bilirubin  0.007529  0.100436       0.874618          1.000000   \n",
       "tot_proteins      0.080425 -0.027496       0.206669          0.234939   \n",
       "albumin          -0.086883  0.082332       0.214065          0.233894   \n",
       "ag_ratio         -0.019910  0.080336       0.237831          0.257544   \n",
       "sgpt             -0.187461 -0.089121      -0.008099         -0.000139   \n",
       "sgot             -0.265924 -0.093799      -0.222250         -0.228531   \n",
       "alkphos          -0.216089 -0.003404      -0.206159         -0.200004   \n",
       "is_patient       -0.137351 -0.082416      -0.220208         -0.246046   \n",
       "\n",
       "                  tot_proteins   albumin  ag_ratio      sgpt      sgot  \\\n",
       "age                   0.080425 -0.086883 -0.019910 -0.187461 -0.265924   \n",
       "gender               -0.027496  0.082332  0.080336 -0.089121 -0.093799   \n",
       "tot_bilirubin         0.206669  0.214065  0.237831 -0.008099 -0.222250   \n",
       "direct_bilirubin      0.234939  0.233894  0.257544 -0.000139 -0.228531   \n",
       "tot_proteins          1.000000  0.125680  0.167196 -0.028514 -0.165453   \n",
       "albumin               0.125680  1.000000  0.791966 -0.042518 -0.029742   \n",
       "ag_ratio              0.167196  0.791966  1.000000 -0.025645 -0.085290   \n",
       "sgpt                 -0.028514 -0.042518 -0.025645  1.000000  0.784053   \n",
       "sgot                 -0.165453 -0.029742 -0.085290  0.784053  1.000000   \n",
       "alkphos              -0.233960 -0.002374 -0.070024  0.233904  0.686322   \n",
       "is_patient           -0.184866 -0.163416 -0.151934  0.035008  0.161388   \n",
       "\n",
       "                   alkphos  is_patient  \n",
       "age              -0.216089   -0.137351  \n",
       "gender           -0.003404   -0.082416  \n",
       "tot_bilirubin    -0.206159   -0.220208  \n",
       "direct_bilirubin -0.200004   -0.246046  \n",
       "tot_proteins     -0.233960   -0.184866  \n",
       "albumin          -0.002374   -0.163416  \n",
       "ag_ratio         -0.070024   -0.151934  \n",
       "sgpt              0.233904    0.035008  \n",
       "sgot              0.686322    0.161388  \n",
       "alkphos           1.000000    0.162319  \n",
       "is_patient        0.162319    1.000000  "
      ]
     },
     "execution_count": 10,
     "metadata": {},
     "output_type": "execute_result"
    }
   ],
   "source": [
    "liver.corr()"
   ]
  },
  {
   "cell_type": "code",
   "execution_count": 11,
   "id": "17c78981",
   "metadata": {
    "execution": {
     "iopub.execute_input": "2023-10-13T14:39:49.908355Z",
     "iopub.status.busy": "2023-10-13T14:39:49.907807Z",
     "iopub.status.idle": "2023-10-13T14:39:49.914954Z",
     "shell.execute_reply": "2023-10-13T14:39:49.914216Z"
    },
    "papermill": {
     "duration": 0.015056,
     "end_time": "2023-10-13T14:39:49.916867",
     "exception": false,
     "start_time": "2023-10-13T14:39:49.901811",
     "status": "completed"
    },
    "tags": []
   },
   "outputs": [],
   "source": [
    "x=liver.drop('is_patient',axis=1)\n",
    "y=liver['is_patient'].values\n",
    "x_train,x_test,y_train,y_test=train_test_split(x,y,test_size=0.3,random_state=1)"
   ]
  },
  {
   "cell_type": "markdown",
   "id": "f4b952b8",
   "metadata": {
    "papermill": {
     "duration": 0.004368,
     "end_time": "2023-10-13T14:39:49.925917",
     "exception": false,
     "start_time": "2023-10-13T14:39:49.921549",
     "status": "completed"
    },
    "tags": []
   },
   "source": [
    "**scaling the data**"
   ]
  },
  {
   "cell_type": "code",
   "execution_count": 12,
   "id": "405865b9",
   "metadata": {
    "execution": {
     "iopub.execute_input": "2023-10-13T14:39:49.937183Z",
     "iopub.status.busy": "2023-10-13T14:39:49.936549Z",
     "iopub.status.idle": "2023-10-13T14:39:49.946394Z",
     "shell.execute_reply": "2023-10-13T14:39:49.945580Z"
    },
    "papermill": {
     "duration": 0.017838,
     "end_time": "2023-10-13T14:39:49.948302",
     "exception": false,
     "start_time": "2023-10-13T14:39:49.930464",
     "status": "completed"
    },
    "tags": []
   },
   "outputs": [],
   "source": [
    "scaler=StandardScaler()\n",
    "x_train=scaler.fit_transform(x_train)\n",
    "x_test=scaler.transform(x_test)"
   ]
  },
  {
   "cell_type": "code",
   "execution_count": 13,
   "id": "fcbd63b8",
   "metadata": {
    "execution": {
     "iopub.execute_input": "2023-10-13T14:39:49.959717Z",
     "iopub.status.busy": "2023-10-13T14:39:49.959106Z",
     "iopub.status.idle": "2023-10-13T14:39:49.963975Z",
     "shell.execute_reply": "2023-10-13T14:39:49.963249Z"
    },
    "papermill": {
     "duration": 0.012723,
     "end_time": "2023-10-13T14:39:49.965721",
     "exception": false,
     "start_time": "2023-10-13T14:39:49.952998",
     "status": "completed"
    },
    "tags": []
   },
   "outputs": [],
   "source": [
    "logreg=LogisticRegression(random_state=1)\n",
    "knn=KNN(n_neighbors=27)\n",
    "dt=DecisionTreeClassifier(min_samples_leaf=0.13,random_state=1)"
   ]
  },
  {
   "cell_type": "code",
   "execution_count": 14,
   "id": "b8640466",
   "metadata": {
    "execution": {
     "iopub.execute_input": "2023-10-13T14:39:49.976697Z",
     "iopub.status.busy": "2023-10-13T14:39:49.976331Z",
     "iopub.status.idle": "2023-10-13T14:39:50.015680Z",
     "shell.execute_reply": "2023-10-13T14:39:50.014517Z"
    },
    "papermill": {
     "duration": 0.047639,
     "end_time": "2023-10-13T14:39:50.018054",
     "exception": false,
     "start_time": "2023-10-13T14:39:49.970415",
     "status": "completed"
    },
    "tags": []
   },
   "outputs": [
    {
     "name": "stdout",
     "output_type": "stream",
     "text": [
      "logistic regression 0.7257142857142858\n",
      "k nearest 0.72\n",
      "classification tree 0.7257142857142858\n"
     ]
    }
   ],
   "source": [
    "classifiers=[('logistic regression',logreg),('k nearest',knn),('classification tree',dt)]\n",
    "for clf_name,clf in classifiers:\n",
    "    clf.fit(x_train,y_train)\n",
    "    y_pred=clf.predict(x_test)\n",
    "    accuracy=accuracy_score(y_pred,y_test)\n",
    "    print(clf_name,accuracy)"
   ]
  },
  {
   "cell_type": "code",
   "execution_count": 15,
   "id": "25c0c36b",
   "metadata": {
    "execution": {
     "iopub.execute_input": "2023-10-13T14:39:50.029420Z",
     "iopub.status.busy": "2023-10-13T14:39:50.029078Z",
     "iopub.status.idle": "2023-10-13T14:39:50.059727Z",
     "shell.execute_reply": "2023-10-13T14:39:50.058333Z"
    },
    "papermill": {
     "duration": 0.03897,
     "end_time": "2023-10-13T14:39:50.061942",
     "exception": false,
     "start_time": "2023-10-13T14:39:50.022972",
     "status": "completed"
    },
    "tags": []
   },
   "outputs": [
    {
     "name": "stdout",
     "output_type": "stream",
     "text": [
      "voting classifier  0.7371428571428571\n"
     ]
    }
   ],
   "source": [
    "vc=VotingClassifier(estimators=classifiers)\n",
    "vc.fit(x_train,y_train)\n",
    "pred=vc.predict(x_test)\n",
    "acc=accuracy_score(pred,y_test)\n",
    "print(\"voting classifier \",acc)"
   ]
  },
  {
   "cell_type": "code",
   "execution_count": null,
   "id": "1dca3b87",
   "metadata": {
    "papermill": {
     "duration": 0.004548,
     "end_time": "2023-10-13T14:39:50.071462",
     "exception": false,
     "start_time": "2023-10-13T14:39:50.066914",
     "status": "completed"
    },
    "tags": []
   },
   "outputs": [],
   "source": []
  }
 ],
 "metadata": {
  "kernelspec": {
   "display_name": "Python 3",
   "language": "python",
   "name": "python3"
  },
  "language_info": {
   "codemirror_mode": {
    "name": "ipython",
    "version": 3
   },
   "file_extension": ".py",
   "mimetype": "text/x-python",
   "name": "python",
   "nbconvert_exporter": "python",
   "pygments_lexer": "ipython3",
   "version": "3.10.12"
  },
  "papermill": {
   "default_parameters": {},
   "duration": 8.646421,
   "end_time": "2023-10-13T14:39:50.696480",
   "environment_variables": {},
   "exception": null,
   "input_path": "__notebook__.ipynb",
   "output_path": "__notebook__.ipynb",
   "parameters": {},
   "start_time": "2023-10-13T14:39:42.050059",
   "version": "2.4.0"
  }
 },
 "nbformat": 4,
 "nbformat_minor": 5
}
