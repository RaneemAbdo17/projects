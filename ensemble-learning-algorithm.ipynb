{
 "cells": [
  {
   "cell_type": "code",
   "execution_count": 1,
   "id": "d7c35e4f",
   "metadata": {
    "execution": {
     "iopub.execute_input": "2023-10-13T14:37:12.401081Z",
     "iopub.status.busy": "2023-10-13T14:37:12.400610Z",
     "iopub.status.idle": "2023-10-13T14:37:15.075752Z",
     "shell.execute_reply": "2023-10-13T14:37:15.074377Z"
    },
    "papermill": {
     "duration": 2.685985,
     "end_time": "2023-10-13T14:37:15.078592",
     "exception": false,
     "start_time": "2023-10-13T14:37:12.392607",
     "status": "completed"
    },
    "tags": []
   },
   "outputs": [],
   "source": [
    "import pandas as pd\n",
    "import numpy as np \n",
    "import matplotlib.pyplot as plt\n",
    "import seaborn as sns\n",
    "from sklearn.metrics import accuracy_score,roc_auc_score\n",
    "from sklearn.model_selection import train_test_split\n",
    "from sklearn.linear_model import LogisticRegression\n",
    "from sklearn.tree import DecisionTreeClassifier\n",
    "from sklearn.neighbors import KNeighborsClassifier as KNN\n",
    "from sklearn.ensemble import RandomForestClassifier\n",
    "from sklearn.preprocessing import StandardScaler\n",
    "from sklearn.ensemble import VotingClassifier"
   ]
  },
  {
   "cell_type": "code",
   "execution_count": 2,
   "id": "4dfc1a44",
   "metadata": {
    "execution": {
     "iopub.execute_input": "2023-10-13T14:37:15.091404Z",
     "iopub.status.busy": "2023-10-13T14:37:15.090809Z",
     "iopub.status.idle": "2023-10-13T14:37:15.291036Z",
     "shell.execute_reply": "2023-10-13T14:37:15.289576Z"
    },
    "papermill": {
     "duration": 0.208701,
     "end_time": "2023-10-13T14:37:15.294022",
     "exception": false,
     "start_time": "2023-10-13T14:37:15.085321",
     "status": "completed"
    },
    "tags": []
   },
   "outputs": [],
   "source": [
    "liver=pd.read_csv('https://raw.githubusercontent.com/DrSaadLa/PythonTuts/main/TreeBasedModels/liver.csv')"
   ]
  },
  {
   "cell_type": "code",
   "execution_count": 3,
   "id": "f76642aa",
   "metadata": {
    "execution": {
     "iopub.execute_input": "2023-10-13T14:37:15.304167Z",
     "iopub.status.busy": "2023-10-13T14:37:15.303726Z",
     "iopub.status.idle": "2023-10-13T14:37:15.338612Z",
     "shell.execute_reply": "2023-10-13T14:37:15.337042Z"
    },
    "papermill": {
     "duration": 0.042926,
     "end_time": "2023-10-13T14:37:15.341189",
     "exception": false,
     "start_time": "2023-10-13T14:37:15.298263",
     "status": "completed"
    },
    "tags": []
   },
   "outputs": [
    {
     "name": "stdout",
     "output_type": "stream",
     "text": [
      "<class 'pandas.core.frame.DataFrame'>\n",
      "RangeIndex: 583 entries, 0 to 582\n",
      "Data columns (total 11 columns):\n",
      " #   Column            Non-Null Count  Dtype  \n",
      "---  ------            --------------  -----  \n",
      " 0   age               583 non-null    int64  \n",
      " 1   gender            583 non-null    object \n",
      " 2   tot_bilirubin     583 non-null    float64\n",
      " 3   direct_bilirubin  583 non-null    float64\n",
      " 4   tot_proteins      583 non-null    int64  \n",
      " 5   albumin           583 non-null    int64  \n",
      " 6   ag_ratio          583 non-null    int64  \n",
      " 7   sgpt              583 non-null    float64\n",
      " 8   sgot              583 non-null    float64\n",
      " 9   alkphos           579 non-null    float64\n",
      " 10  is_patient        583 non-null    int64  \n",
      "dtypes: float64(5), int64(5), object(1)\n",
      "memory usage: 50.2+ KB\n"
     ]
    }
   ],
   "source": [
    "liver.info()"
   ]
  },
  {
   "cell_type": "code",
   "execution_count": 4,
   "id": "9c51b696",
   "metadata": {
    "execution": {
     "iopub.execute_input": "2023-10-13T14:37:15.350763Z",
     "iopub.status.busy": "2023-10-13T14:37:15.350368Z",
     "iopub.status.idle": "2023-10-13T14:37:15.361294Z",
     "shell.execute_reply": "2023-10-13T14:37:15.360111Z"
    },
    "papermill": {
     "duration": 0.018143,
     "end_time": "2023-10-13T14:37:15.363302",
     "exception": false,
     "start_time": "2023-10-13T14:37:15.345159",
     "status": "completed"
    },
    "tags": []
   },
   "outputs": [
    {
     "data": {
      "text/plain": [
       "age                 0\n",
       "gender              0\n",
       "tot_bilirubin       0\n",
       "direct_bilirubin    0\n",
       "tot_proteins        0\n",
       "albumin             0\n",
       "ag_ratio            0\n",
       "sgpt                0\n",
       "sgot                0\n",
       "alkphos             4\n",
       "is_patient          0\n",
       "dtype: int64"
      ]
     },
     "execution_count": 4,
     "metadata": {},
     "output_type": "execute_result"
    }
   ],
   "source": [
    "liver.isnull().sum()"
   ]
  },
  {
   "cell_type": "code",
   "execution_count": 5,
   "id": "407c965b",
   "metadata": {
    "execution": {
     "iopub.execute_input": "2023-10-13T14:37:15.372889Z",
     "iopub.status.busy": "2023-10-13T14:37:15.372452Z",
     "iopub.status.idle": "2023-10-13T14:37:15.395158Z",
     "shell.execute_reply": "2023-10-13T14:37:15.393953Z"
    },
    "papermill": {
     "duration": 0.030432,
     "end_time": "2023-10-13T14:37:15.397845",
     "exception": false,
     "start_time": "2023-10-13T14:37:15.367413",
     "status": "completed"
    },
    "tags": []
   },
   "outputs": [
    {
     "data": {
      "text/html": [
       "<div>\n",
       "<style scoped>\n",
       "    .dataframe tbody tr th:only-of-type {\n",
       "        vertical-align: middle;\n",
       "    }\n",
       "\n",
       "    .dataframe tbody tr th {\n",
       "        vertical-align: top;\n",
       "    }\n",
       "\n",
       "    .dataframe thead th {\n",
       "        text-align: right;\n",
       "    }\n",
       "</style>\n",
       "<table border=\"1\" class=\"dataframe\">\n",
       "  <thead>\n",
       "    <tr style=\"text-align: right;\">\n",
       "      <th></th>\n",
       "      <th>age</th>\n",
       "      <th>gender</th>\n",
       "      <th>tot_bilirubin</th>\n",
       "      <th>direct_bilirubin</th>\n",
       "      <th>tot_proteins</th>\n",
       "      <th>albumin</th>\n",
       "      <th>ag_ratio</th>\n",
       "      <th>sgpt</th>\n",
       "      <th>sgot</th>\n",
       "      <th>alkphos</th>\n",
       "      <th>is_patient</th>\n",
       "    </tr>\n",
       "  </thead>\n",
       "  <tbody>\n",
       "    <tr>\n",
       "      <th>209</th>\n",
       "      <td>45</td>\n",
       "      <td>Female</td>\n",
       "      <td>0.9</td>\n",
       "      <td>0.3</td>\n",
       "      <td>189</td>\n",
       "      <td>23</td>\n",
       "      <td>33</td>\n",
       "      <td>6.6</td>\n",
       "      <td>3.9</td>\n",
       "      <td>NaN</td>\n",
       "      <td>1</td>\n",
       "    </tr>\n",
       "    <tr>\n",
       "      <th>241</th>\n",
       "      <td>51</td>\n",
       "      <td>Male</td>\n",
       "      <td>0.8</td>\n",
       "      <td>0.2</td>\n",
       "      <td>230</td>\n",
       "      <td>24</td>\n",
       "      <td>46</td>\n",
       "      <td>6.5</td>\n",
       "      <td>3.1</td>\n",
       "      <td>NaN</td>\n",
       "      <td>1</td>\n",
       "    </tr>\n",
       "    <tr>\n",
       "      <th>253</th>\n",
       "      <td>35</td>\n",
       "      <td>Female</td>\n",
       "      <td>0.6</td>\n",
       "      <td>0.2</td>\n",
       "      <td>180</td>\n",
       "      <td>12</td>\n",
       "      <td>15</td>\n",
       "      <td>5.2</td>\n",
       "      <td>2.7</td>\n",
       "      <td>NaN</td>\n",
       "      <td>2</td>\n",
       "    </tr>\n",
       "    <tr>\n",
       "      <th>312</th>\n",
       "      <td>27</td>\n",
       "      <td>Male</td>\n",
       "      <td>1.3</td>\n",
       "      <td>0.6</td>\n",
       "      <td>106</td>\n",
       "      <td>25</td>\n",
       "      <td>54</td>\n",
       "      <td>8.5</td>\n",
       "      <td>4.8</td>\n",
       "      <td>NaN</td>\n",
       "      <td>2</td>\n",
       "    </tr>\n",
       "  </tbody>\n",
       "</table>\n",
       "</div>"
      ],
      "text/plain": [
       "     age  gender  tot_bilirubin  direct_bilirubin  tot_proteins  albumin  \\\n",
       "209   45  Female            0.9               0.3           189       23   \n",
       "241   51    Male            0.8               0.2           230       24   \n",
       "253   35  Female            0.6               0.2           180       12   \n",
       "312   27    Male            1.3               0.6           106       25   \n",
       "\n",
       "     ag_ratio  sgpt  sgot  alkphos  is_patient  \n",
       "209        33   6.6   3.9      NaN           1  \n",
       "241        46   6.5   3.1      NaN           1  \n",
       "253        15   5.2   2.7      NaN           2  \n",
       "312        54   8.5   4.8      NaN           2  "
      ]
     },
     "execution_count": 5,
     "metadata": {},
     "output_type": "execute_result"
    }
   ],
   "source": [
    "liver[liver['alkphos'].isnull()]"
   ]
  },
  {
   "cell_type": "markdown",
   "id": "fe136056",
   "metadata": {
    "papermill": {
     "duration": 0.004244,
     "end_time": "2023-10-13T14:37:15.406959",
     "exception": false,
     "start_time": "2023-10-13T14:37:15.402715",
     "status": "completed"
    },
    "tags": []
   },
   "source": [
    "**replace null with mean**"
   ]
  },
  {
   "cell_type": "code",
   "execution_count": 6,
   "id": "f504e32b",
   "metadata": {
    "execution": {
     "iopub.execute_input": "2023-10-13T14:37:15.417911Z",
     "iopub.status.busy": "2023-10-13T14:37:15.417517Z",
     "iopub.status.idle": "2023-10-13T14:37:15.441827Z",
     "shell.execute_reply": "2023-10-13T14:37:15.440641Z"
    },
    "papermill": {
     "duration": 0.032581,
     "end_time": "2023-10-13T14:37:15.444191",
     "exception": false,
     "start_time": "2023-10-13T14:37:15.411610",
     "status": "completed"
    },
    "tags": []
   },
   "outputs": [],
   "source": [
    "from sklearn.impute import SimpleImputer\n",
    "imp=SimpleImputer(missing_values=np.nan,strategy='mean')\n",
    "liver['alkphos']=imp.fit_transform(liver[['alkphos']])"
   ]
  },
  {
   "cell_type": "code",
   "execution_count": 7,
   "id": "ab999650",
   "metadata": {
    "execution": {
     "iopub.execute_input": "2023-10-13T14:37:15.454391Z",
     "iopub.status.busy": "2023-10-13T14:37:15.454001Z",
     "iopub.status.idle": "2023-10-13T14:37:15.461725Z",
     "shell.execute_reply": "2023-10-13T14:37:15.460442Z"
    },
    "papermill": {
     "duration": 0.015062,
     "end_time": "2023-10-13T14:37:15.463641",
     "exception": false,
     "start_time": "2023-10-13T14:37:15.448579",
     "status": "completed"
    },
    "tags": []
   },
   "outputs": [
    {
     "data": {
      "text/plain": [
       "0"
      ]
     },
     "execution_count": 7,
     "metadata": {},
     "output_type": "execute_result"
    }
   ],
   "source": [
    "liver['alkphos'].isnull().sum()"
   ]
  },
  {
   "cell_type": "code",
   "execution_count": 8,
   "id": "54c5d1ca",
   "metadata": {
    "execution": {
     "iopub.execute_input": "2023-10-13T14:37:15.474800Z",
     "iopub.status.busy": "2023-10-13T14:37:15.473548Z",
     "iopub.status.idle": "2023-10-13T14:37:15.481403Z",
     "shell.execute_reply": "2023-10-13T14:37:15.480107Z"
    },
    "papermill": {
     "duration": 0.015812,
     "end_time": "2023-10-13T14:37:15.483730",
     "exception": false,
     "start_time": "2023-10-13T14:37:15.467918",
     "status": "completed"
    },
    "tags": []
   },
   "outputs": [
    {
     "data": {
      "text/plain": [
       "array(['Female', 'Male'], dtype=object)"
      ]
     },
     "execution_count": 8,
     "metadata": {},
     "output_type": "execute_result"
    }
   ],
   "source": [
    "liver['gender'].unique()"
   ]
  },
  {
   "cell_type": "code",
   "execution_count": 9,
   "id": "a6728c7e",
   "metadata": {
    "execution": {
     "iopub.execute_input": "2023-10-13T14:37:15.496441Z",
     "iopub.status.busy": "2023-10-13T14:37:15.495439Z",
     "iopub.status.idle": "2023-10-13T14:37:15.505192Z",
     "shell.execute_reply": "2023-10-13T14:37:15.504504Z"
    },
    "papermill": {
     "duration": 0.018475,
     "end_time": "2023-10-13T14:37:15.507177",
     "exception": false,
     "start_time": "2023-10-13T14:37:15.488702",
     "status": "completed"
    },
    "tags": []
   },
   "outputs": [
    {
     "data": {
      "text/plain": [
       "array([0, 1])"
      ]
     },
     "execution_count": 9,
     "metadata": {},
     "output_type": "execute_result"
    }
   ],
   "source": [
    "liver['gender']=liver['gender'].apply(lambda x:1 if x=='Male' else 0)\n",
    "liver['gender'].unique()"
   ]
  },
  {
   "cell_type": "code",
   "execution_count": 10,
   "id": "2de3a11a",
   "metadata": {
    "execution": {
     "iopub.execute_input": "2023-10-13T14:37:15.519473Z",
     "iopub.status.busy": "2023-10-13T14:37:15.518275Z",
     "iopub.status.idle": "2023-10-13T14:37:15.537467Z",
     "shell.execute_reply": "2023-10-13T14:37:15.536698Z"
    },
    "papermill": {
     "duration": 0.027811,
     "end_time": "2023-10-13T14:37:15.539947",
     "exception": false,
     "start_time": "2023-10-13T14:37:15.512136",
     "status": "completed"
    },
    "tags": []
   },
   "outputs": [
    {
     "data": {
      "text/html": [
       "<div>\n",
       "<style scoped>\n",
       "    .dataframe tbody tr th:only-of-type {\n",
       "        vertical-align: middle;\n",
       "    }\n",
       "\n",
       "    .dataframe tbody tr th {\n",
       "        vertical-align: top;\n",
       "    }\n",
       "\n",
       "    .dataframe thead th {\n",
       "        text-align: right;\n",
       "    }\n",
       "</style>\n",
       "<table border=\"1\" class=\"dataframe\">\n",
       "  <thead>\n",
       "    <tr style=\"text-align: right;\">\n",
       "      <th></th>\n",
       "      <th>age</th>\n",
       "      <th>gender</th>\n",
       "      <th>tot_bilirubin</th>\n",
       "      <th>direct_bilirubin</th>\n",
       "      <th>tot_proteins</th>\n",
       "      <th>albumin</th>\n",
       "      <th>ag_ratio</th>\n",
       "      <th>sgpt</th>\n",
       "      <th>sgot</th>\n",
       "      <th>alkphos</th>\n",
       "      <th>is_patient</th>\n",
       "    </tr>\n",
       "  </thead>\n",
       "  <tbody>\n",
       "    <tr>\n",
       "      <th>age</th>\n",
       "      <td>1.000000</td>\n",
       "      <td>0.056560</td>\n",
       "      <td>0.011763</td>\n",
       "      <td>0.007529</td>\n",
       "      <td>0.080425</td>\n",
       "      <td>-0.086883</td>\n",
       "      <td>-0.019910</td>\n",
       "      <td>-0.187461</td>\n",
       "      <td>-0.265924</td>\n",
       "      <td>-0.216089</td>\n",
       "      <td>-0.137351</td>\n",
       "    </tr>\n",
       "    <tr>\n",
       "      <th>gender</th>\n",
       "      <td>0.056560</td>\n",
       "      <td>1.000000</td>\n",
       "      <td>0.089291</td>\n",
       "      <td>0.100436</td>\n",
       "      <td>-0.027496</td>\n",
       "      <td>0.082332</td>\n",
       "      <td>0.080336</td>\n",
       "      <td>-0.089121</td>\n",
       "      <td>-0.093799</td>\n",
       "      <td>-0.003404</td>\n",
       "      <td>-0.082416</td>\n",
       "    </tr>\n",
       "    <tr>\n",
       "      <th>tot_bilirubin</th>\n",
       "      <td>0.011763</td>\n",
       "      <td>0.089291</td>\n",
       "      <td>1.000000</td>\n",
       "      <td>0.874618</td>\n",
       "      <td>0.206669</td>\n",
       "      <td>0.214065</td>\n",
       "      <td>0.237831</td>\n",
       "      <td>-0.008099</td>\n",
       "      <td>-0.222250</td>\n",
       "      <td>-0.206159</td>\n",
       "      <td>-0.220208</td>\n",
       "    </tr>\n",
       "    <tr>\n",
       "      <th>direct_bilirubin</th>\n",
       "      <td>0.007529</td>\n",
       "      <td>0.100436</td>\n",
       "      <td>0.874618</td>\n",
       "      <td>1.000000</td>\n",
       "      <td>0.234939</td>\n",
       "      <td>0.233894</td>\n",
       "      <td>0.257544</td>\n",
       "      <td>-0.000139</td>\n",
       "      <td>-0.228531</td>\n",
       "      <td>-0.200004</td>\n",
       "      <td>-0.246046</td>\n",
       "    </tr>\n",
       "    <tr>\n",
       "      <th>tot_proteins</th>\n",
       "      <td>0.080425</td>\n",
       "      <td>-0.027496</td>\n",
       "      <td>0.206669</td>\n",
       "      <td>0.234939</td>\n",
       "      <td>1.000000</td>\n",
       "      <td>0.125680</td>\n",
       "      <td>0.167196</td>\n",
       "      <td>-0.028514</td>\n",
       "      <td>-0.165453</td>\n",
       "      <td>-0.233960</td>\n",
       "      <td>-0.184866</td>\n",
       "    </tr>\n",
       "    <tr>\n",
       "      <th>albumin</th>\n",
       "      <td>-0.086883</td>\n",
       "      <td>0.082332</td>\n",
       "      <td>0.214065</td>\n",
       "      <td>0.233894</td>\n",
       "      <td>0.125680</td>\n",
       "      <td>1.000000</td>\n",
       "      <td>0.791966</td>\n",
       "      <td>-0.042518</td>\n",
       "      <td>-0.029742</td>\n",
       "      <td>-0.002374</td>\n",
       "      <td>-0.163416</td>\n",
       "    </tr>\n",
       "    <tr>\n",
       "      <th>ag_ratio</th>\n",
       "      <td>-0.019910</td>\n",
       "      <td>0.080336</td>\n",
       "      <td>0.237831</td>\n",
       "      <td>0.257544</td>\n",
       "      <td>0.167196</td>\n",
       "      <td>0.791966</td>\n",
       "      <td>1.000000</td>\n",
       "      <td>-0.025645</td>\n",
       "      <td>-0.085290</td>\n",
       "      <td>-0.070024</td>\n",
       "      <td>-0.151934</td>\n",
       "    </tr>\n",
       "    <tr>\n",
       "      <th>sgpt</th>\n",
       "      <td>-0.187461</td>\n",
       "      <td>-0.089121</td>\n",
       "      <td>-0.008099</td>\n",
       "      <td>-0.000139</td>\n",
       "      <td>-0.028514</td>\n",
       "      <td>-0.042518</td>\n",
       "      <td>-0.025645</td>\n",
       "      <td>1.000000</td>\n",
       "      <td>0.784053</td>\n",
       "      <td>0.233904</td>\n",
       "      <td>0.035008</td>\n",
       "    </tr>\n",
       "    <tr>\n",
       "      <th>sgot</th>\n",
       "      <td>-0.265924</td>\n",
       "      <td>-0.093799</td>\n",
       "      <td>-0.222250</td>\n",
       "      <td>-0.228531</td>\n",
       "      <td>-0.165453</td>\n",
       "      <td>-0.029742</td>\n",
       "      <td>-0.085290</td>\n",
       "      <td>0.784053</td>\n",
       "      <td>1.000000</td>\n",
       "      <td>0.686322</td>\n",
       "      <td>0.161388</td>\n",
       "    </tr>\n",
       "    <tr>\n",
       "      <th>alkphos</th>\n",
       "      <td>-0.216089</td>\n",
       "      <td>-0.003404</td>\n",
       "      <td>-0.206159</td>\n",
       "      <td>-0.200004</td>\n",
       "      <td>-0.233960</td>\n",
       "      <td>-0.002374</td>\n",
       "      <td>-0.070024</td>\n",
       "      <td>0.233904</td>\n",
       "      <td>0.686322</td>\n",
       "      <td>1.000000</td>\n",
       "      <td>0.162319</td>\n",
       "    </tr>\n",
       "    <tr>\n",
       "      <th>is_patient</th>\n",
       "      <td>-0.137351</td>\n",
       "      <td>-0.082416</td>\n",
       "      <td>-0.220208</td>\n",
       "      <td>-0.246046</td>\n",
       "      <td>-0.184866</td>\n",
       "      <td>-0.163416</td>\n",
       "      <td>-0.151934</td>\n",
       "      <td>0.035008</td>\n",
       "      <td>0.161388</td>\n",
       "      <td>0.162319</td>\n",
       "      <td>1.000000</td>\n",
       "    </tr>\n",
       "  </tbody>\n",
       "</table>\n",
       "</div>"
      ],
      "text/plain": [
       "                       age    gender  tot_bilirubin  direct_bilirubin  \\\n",
       "age               1.000000  0.056560       0.011763          0.007529   \n",
       "gender            0.056560  1.000000       0.089291          0.100436   \n",
       "tot_bilirubin     0.011763  0.089291       1.000000          0.874618   \n",
       "direct_bilirubin  0.007529  0.100436       0.874618          1.000000   \n",
       "tot_proteins      0.080425 -0.027496       0.206669          0.234939   \n",
       "albumin          -0.086883  0.082332       0.214065          0.233894   \n",
       "ag_ratio         -0.019910  0.080336       0.237831          0.257544   \n",
       "sgpt             -0.187461 -0.089121      -0.008099         -0.000139   \n",
       "sgot             -0.265924 -0.093799      -0.222250         -0.228531   \n",
       "alkphos          -0.216089 -0.003404      -0.206159         -0.200004   \n",
       "is_patient       -0.137351 -0.082416      -0.220208         -0.246046   \n",
       "\n",
       "                  tot_proteins   albumin  ag_ratio      sgpt      sgot  \\\n",
       "age                   0.080425 -0.086883 -0.019910 -0.187461 -0.265924   \n",
       "gender               -0.027496  0.082332  0.080336 -0.089121 -0.093799   \n",
       "tot_bilirubin         0.206669  0.214065  0.237831 -0.008099 -0.222250   \n",
       "direct_bilirubin      0.234939  0.233894  0.257544 -0.000139 -0.228531   \n",
       "tot_proteins          1.000000  0.125680  0.167196 -0.028514 -0.165453   \n",
       "albumin               0.125680  1.000000  0.791966 -0.042518 -0.029742   \n",
       "ag_ratio              0.167196  0.791966  1.000000 -0.025645 -0.085290   \n",
       "sgpt                 -0.028514 -0.042518 -0.025645  1.000000  0.784053   \n",
       "sgot                 -0.165453 -0.029742 -0.085290  0.784053  1.000000   \n",
       "alkphos              -0.233960 -0.002374 -0.070024  0.233904  0.686322   \n",
       "is_patient           -0.184866 -0.163416 -0.151934  0.035008  0.161388   \n",
       "\n",
       "                   alkphos  is_patient  \n",
       "age              -0.216089   -0.137351  \n",
       "gender           -0.003404   -0.082416  \n",
       "tot_bilirubin    -0.206159   -0.220208  \n",
       "direct_bilirubin -0.200004   -0.246046  \n",
       "tot_proteins     -0.233960   -0.184866  \n",
       "albumin          -0.002374   -0.163416  \n",
       "ag_ratio         -0.070024   -0.151934  \n",
       "sgpt              0.233904    0.035008  \n",
       "sgot              0.686322    0.161388  \n",
       "alkphos           1.000000    0.162319  \n",
       "is_patient        0.162319    1.000000  "
      ]
     },
     "execution_count": 10,
     "metadata": {},
     "output_type": "execute_result"
    }
   ],
   "source": [
    "liver.corr()"
   ]
  },
  {
   "cell_type": "code",
   "execution_count": 11,
   "id": "942ad0c4",
   "metadata": {
    "execution": {
     "iopub.execute_input": "2023-10-13T14:37:15.553093Z",
     "iopub.status.busy": "2023-10-13T14:37:15.552541Z",
     "iopub.status.idle": "2023-10-13T14:37:15.559177Z",
     "shell.execute_reply": "2023-10-13T14:37:15.558431Z"
    },
    "papermill": {
     "duration": 0.015882,
     "end_time": "2023-10-13T14:37:15.561551",
     "exception": false,
     "start_time": "2023-10-13T14:37:15.545669",
     "status": "completed"
    },
    "tags": []
   },
   "outputs": [],
   "source": [
    "x=liver.drop('is_patient',axis=1)\n",
    "y=liver['is_patient'].values\n",
    "x_train,x_test,y_train,y_test=train_test_split(x,y,test_size=0.3,random_state=1)"
   ]
  },
  {
   "cell_type": "markdown",
   "id": "5d8c51db",
   "metadata": {
    "papermill": {
     "duration": 0.004871,
     "end_time": "2023-10-13T14:37:15.571914",
     "exception": false,
     "start_time": "2023-10-13T14:37:15.567043",
     "status": "completed"
    },
    "tags": []
   },
   "source": [
    "**scaling the data**"
   ]
  },
  {
   "cell_type": "code",
   "execution_count": 12,
   "id": "9843d167",
   "metadata": {
    "execution": {
     "iopub.execute_input": "2023-10-13T14:37:15.583751Z",
     "iopub.status.busy": "2023-10-13T14:37:15.583380Z",
     "iopub.status.idle": "2023-10-13T14:37:15.595115Z",
     "shell.execute_reply": "2023-10-13T14:37:15.594226Z"
    },
    "papermill": {
     "duration": 0.020402,
     "end_time": "2023-10-13T14:37:15.597441",
     "exception": false,
     "start_time": "2023-10-13T14:37:15.577039",
     "status": "completed"
    },
    "tags": []
   },
   "outputs": [],
   "source": [
    "scaler=StandardScaler()\n",
    "x_train=scaler.fit_transform(x_train)\n",
    "x_test=scaler.transform(x_test)"
   ]
  },
  {
   "cell_type": "code",
   "execution_count": 13,
   "id": "5281315a",
   "metadata": {
    "execution": {
     "iopub.execute_input": "2023-10-13T14:37:15.610624Z",
     "iopub.status.busy": "2023-10-13T14:37:15.610100Z",
     "iopub.status.idle": "2023-10-13T14:37:15.614020Z",
     "shell.execute_reply": "2023-10-13T14:37:15.613344Z"
    },
    "papermill": {
     "duration": 0.01312,
     "end_time": "2023-10-13T14:37:15.616407",
     "exception": false,
     "start_time": "2023-10-13T14:37:15.603287",
     "status": "completed"
    },
    "tags": []
   },
   "outputs": [],
   "source": [
    "logreg=LogisticRegression(random_state=1)\n",
    "knn=KNN(n_neighbors=27)\n",
    "dt=DecisionTreeClassifier(min_samples_leaf=0.13,random_state=1)"
   ]
  },
  {
   "cell_type": "code",
   "execution_count": 14,
   "id": "444b8131",
   "metadata": {
    "execution": {
     "iopub.execute_input": "2023-10-13T14:37:15.628686Z",
     "iopub.status.busy": "2023-10-13T14:37:15.628323Z",
     "iopub.status.idle": "2023-10-13T14:37:15.671362Z",
     "shell.execute_reply": "2023-10-13T14:37:15.670296Z"
    },
    "papermill": {
     "duration": 0.052193,
     "end_time": "2023-10-13T14:37:15.673879",
     "exception": false,
     "start_time": "2023-10-13T14:37:15.621686",
     "status": "completed"
    },
    "tags": []
   },
   "outputs": [
    {
     "name": "stdout",
     "output_type": "stream",
     "text": [
      "logistic regression 0.7257142857142858\n",
      "k nearest 0.72\n",
      "classification tree 0.7257142857142858\n"
     ]
    }
   ],
   "source": [
    "classifiers=[('logistic regression',logreg),('k nearest',knn),('classification tree',dt)]\n",
    "for clf_name,clf in classifiers:\n",
    "    clf.fit(x_train,y_train)\n",
    "    y_pred=clf.predict(x_test)\n",
    "    accuracy=accuracy_score(y_pred,y_test)\n",
    "    print(clf_name,accuracy)"
   ]
  },
  {
   "cell_type": "code",
   "execution_count": 15,
   "id": "eb48b0bf",
   "metadata": {
    "execution": {
     "iopub.execute_input": "2023-10-13T14:37:15.685411Z",
     "iopub.status.busy": "2023-10-13T14:37:15.684977Z",
     "iopub.status.idle": "2023-10-13T14:37:15.720306Z",
     "shell.execute_reply": "2023-10-13T14:37:15.719066Z"
    },
    "papermill": {
     "duration": 0.04425,
     "end_time": "2023-10-13T14:37:15.723001",
     "exception": false,
     "start_time": "2023-10-13T14:37:15.678751",
     "status": "completed"
    },
    "tags": []
   },
   "outputs": [
    {
     "name": "stdout",
     "output_type": "stream",
     "text": [
      "voting classifier  0.7371428571428571\n"
     ]
    }
   ],
   "source": [
    "vc=VotingClassifier(estimators=classifiers)\n",
    "vc.fit(x_train,y_train)\n",
    "pred=vc.predict(x_test)\n",
    "acc=accuracy_score(pred,y_test)\n",
    "print(\"voting classifier \",acc)"
   ]
  },
  {
   "cell_type": "code",
   "execution_count": null,
   "id": "f19e7ba1",
   "metadata": {
    "papermill": {
     "duration": 0.00527,
     "end_time": "2023-10-13T14:37:15.734533",
     "exception": false,
     "start_time": "2023-10-13T14:37:15.729263",
     "status": "completed"
    },
    "tags": []
   },
   "outputs": [],
   "source": []
  }
 ],
 "metadata": {
  "kernelspec": {
   "display_name": "Python 3",
   "language": "python",
   "name": "python3"
  },
  "language_info": {
   "codemirror_mode": {
    "name": "ipython",
    "version": 3
   },
   "file_extension": ".py",
   "mimetype": "text/x-python",
   "name": "python",
   "nbconvert_exporter": "python",
   "pygments_lexer": "ipython3",
   "version": "3.10.12"
  },
  "papermill": {
   "default_parameters": {},
   "duration": 7.662388,
   "end_time": "2023-10-13T14:37:16.664544",
   "environment_variables": {},
   "exception": null,
   "input_path": "__notebook__.ipynb",
   "output_path": "__notebook__.ipynb",
   "parameters": {},
   "start_time": "2023-10-13T14:37:09.002156",
   "version": "2.4.0"
  }
 },
 "nbformat": 4,
 "nbformat_minor": 5
}
